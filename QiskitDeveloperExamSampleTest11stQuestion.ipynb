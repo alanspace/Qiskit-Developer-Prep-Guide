{
 "cells": [
  {
   "cell_type": "markdown",
   "metadata": {},
   "source": [
    "## Question 11: answer are B and C"
   ]
  },
  {
   "cell_type": "code",
   "execution_count": 1,
   "metadata": {},
   "outputs": [],
   "source": [
    "from qiskit import QuantumRegister, ClassicalRegister, QuantumCircuit, Aer, execute, IBMQ, transpile\n",
    "\n",
    "from qiskit.quantum_info import Statevector # the state vector of the required qubits is generated\n",
    "from qiskit.visualization import plot_bloch_multivector, plot_histogram, plot_state_qsphere # plot the qubits in a qsphere\n",
    "\n",
    "import numpy as np\n",
    "from numpy import pi\n",
    "import math\n",
    "from math import sqrt\n",
    "\n",
    "import matplotlib as mpl\n",
    "%matplotlib inline"
   ]
  },
  {
   "cell_type": "markdown",
   "metadata": {},
   "source": [
    "## transpiler\n",
    "The transpiler uses certain optimization to improve the performance of the circuit.\n",
    "We can implement more and more abstract operation at the very abstract level, but these quantum circuit cannot be implemented directly to the hardware.\n",
    "Using transpilation, the specific backend can implement the quantum circuits directly within the hardware limitation."
   ]
  },
  {
   "cell_type": "markdown",
   "metadata": {},
   "source": [
    "## Barrier\n",
    "We place barrier across all qubits to the QuantumCircuit, which can be put between input state and gate operation, or between gate operation and measurement.\n",
    "We call this barrier operation, an intrstruction of transpiler to separate parts of the operation.\n",
    "By doing this, we can measure some noises introduced by gates."
   ]
  },
  {
   "cell_type": "markdown",
   "metadata": {},
   "source": [
    "## Get our backend `ibm_oslo`"
   ]
  },
  {
   "cell_type": "code",
   "execution_count": 2,
   "metadata": {},
   "outputs": [],
   "source": [
    "provider = IBMQ.load_account()\n",
    "provider = IBMQ.get_provider(hub = 'ibm-q', group = 'open', project = 'main')\n",
    "backend = provider.get_backend('ibm_oslo')"
   ]
  },
  {
   "cell_type": "markdown",
   "metadata": {},
   "source": [
    "## Example"
   ]
  },
  {
   "cell_type": "markdown",
   "metadata": {},
   "source": [
    "We know that it is only identity if two `H` gate operating togehter. Thus, after transpilation, we get \"nothing\"."
   ]
  },
  {
   "cell_type": "code",
   "execution_count": 3,
   "metadata": {
    "scrolled": true
   },
   "outputs": [
    {
     "data": {
      "image/png": "[encoded data removed]",
      "text/plain": [
       "<Figure size 193.726x84.28 with 1 Axes>"
      ]
     },
     "execution_count": 3,
     "metadata": {},
     "output_type": "execute_result"
    }
   ],
   "source": [
    "qc0 = QuantumCircuit(1)\n",
    "qc0.h(0)\n",
    "qc0.h(0)\n",
    "qc0.draw()"
   ]
  },
  {
   "cell_type": "code",
   "execution_count": 4,
   "metadata": {},
   "outputs": [
    {
     "data": {
      "image/png": "[encoded data removed]",
      "text/plain": [
       "<Figure size 90.3x24.08 with 1 Axes>"
      ]
     },
     "execution_count": 4,
     "metadata": {},
     "output_type": "execute_result"
    }
   ],
   "source": [
    "transpile(qc0, backend).draw(output = 'mpl', idle_wires = False)"
   ]
  },
  {
   "cell_type": "markdown",
   "metadata": {},
   "source": [
    "With the barrier, we can stop the transpiler can see how the gates being transpiled into the native gates available in the chip.\n",
    "We see that the hardmard gate is decomposed into 2 `Rz` gate and 1 `$\\sqrt{x}$` gate."
   ]
  },
  {
   "cell_type": "code",
   "execution_count": 5,
   "metadata": {},
   "outputs": [
    {
     "data": {
      "image/png": "[encoded data removed]",
      "text/plain": [
       "<Figure size 253.926x84.28 with 1 Axes>"
      ]
     },
     "execution_count": 5,
     "metadata": {},
     "output_type": "execute_result"
    }
   ],
   "source": [
    "qc1 = QuantumCircuit(1)\n",
    "qc1.h(0)\n",
    "qc1.barrier()\n",
    "qc1.h(0)\n",
    "qc1.draw()"
   ]
  },
  {
   "cell_type": "code",
   "execution_count": 6,
   "metadata": {},
   "outputs": [
    {
     "data": {
      "image/png": "[encoded data removed]",
      "text/plain": [
       "<Figure size 545.347x84.28 with 1 Axes>"
      ]
     },
     "execution_count": 6,
     "metadata": {},
     "output_type": "execute_result"
    }
   ],
   "source": [
    "transpile(qc1, backend).draw(output = 'mpl', idle_wires = False)"
   ]
  },
  {
   "cell_type": "code",
   "execution_count": 7,
   "metadata": {},
   "outputs": [],
   "source": [
    "#We can see the transpiler can still operate on either side of the barrier."
   ]
  },
  {
   "cell_type": "code",
   "execution_count": 8,
   "metadata": {},
   "outputs": [
    {
     "data": {
      "image/png": "[encoded data removed]",
      "text/plain": [
       "<Figure size 374.326x84.28 with 1 Axes>"
      ]
     },
     "execution_count": 8,
     "metadata": {},
     "output_type": "execute_result"
    }
   ],
   "source": [
    "qc2 = QuantumCircuit(1)\n",
    "qc2.h(0)\n",
    "qc2.h(0)\n",
    "qc2.barrier()\n",
    "qc2.x(0)\n",
    "qc2.h(0)\n",
    "qc2.draw()"
   ]
  },
  {
   "cell_type": "code",
   "execution_count": 11,
   "metadata": {},
   "outputs": [
    {
     "data": {
      "image/png": "[encoded data removed]",
      "text/plain": [
       "<Figure size 364.747x84.28 with 1 Axes>"
      ]
     },
     "execution_count": 11,
     "metadata": {},
     "output_type": "execute_result"
    }
   ],
   "source": [
    "transpile(qc2, backend).draw(output = 'mpl', idle_wires = False)"
   ]
  },
  {
   "cell_type": "markdown",
   "metadata": {},
   "source": [
    "In T1 experiment, transpilation can help to find the coherent time by measuring the relaxation time of the qubits when putting many `I` gate in `|1>` and observe when it comes to `|0>`.\n",
    "Without the transpiler, all the `I` gate will combine and you will never see `|0>`\n",
    "With the transpiler, it will respect all these as a single qubit gate."
   ]
  },
  {
   "cell_type": "markdown",
   "metadata": {},
   "source": [
    "## Back to the question"
   ]
  },
  {
   "cell_type": "code",
   "execution_count": 13,
   "metadata": {},
   "outputs": [],
   "source": [
    "#Create a quantum circuit\n",
    "qc = QuantumCircuit(3,3)"
   ]
  },
  {
   "cell_type": "markdown",
   "metadata": {},
   "source": [
    "## Option A"
   ]
  },
  {
   "cell_type": "code",
   "execution_count": null,
   "metadata": {},
   "outputs": [],
   "source": [
    "#qc.barrier(qc) \n",
    "#qc.draw(output=\"mpl\")\n",
    "#error\n",
    "#\"Invalid bit index: \n",
    "#'CircuitInstruction(operation=Instruction\n",
    "#(name='barrier', num_qubits=1, num_clbits=0, params=[]), qubits=(), clbits=())' of type \n",
    "#'<class 'qiskit.circuit.quantumcircuitdata.CircuitInstruction'>'\""
   ]
  },
  {
   "cell_type": "markdown",
   "metadata": {},
   "source": [
    "## Option B"
   ]
  },
  {
   "cell_type": "code",
   "execution_count": 14,
   "metadata": {},
   "outputs": [
    {
     "data": {
      "image/png": "[encoded data removed]",
      "text/plain": [
       "<Figure size 146.797x264.88 with 1 Axes>"
      ]
     },
     "execution_count": 14,
     "metadata": {},
     "output_type": "execute_result"
    }
   ],
   "source": [
    "qc.barrier([0,1,2])\n",
    "qc.draw(output=\"mpl\")"
   ]
  },
  {
   "cell_type": "markdown",
   "metadata": {},
   "source": [
    "## Option C"
   ]
  },
  {
   "cell_type": "code",
   "execution_count": 15,
   "metadata": {},
   "outputs": [
    {
     "data": {
      "image/png": "[encoded data removed]",
      "text/plain": [
       "<Figure size 206.997x264.88 with 1 Axes>"
      ]
     },
     "execution_count": 15,
     "metadata": {},
     "output_type": "execute_result"
    }
   ],
   "source": [
    "qc.barrier()\n",
    "qc.draw(output=\"mpl\")"
   ]
  },
  {
   "cell_type": "markdown",
   "metadata": {},
   "source": [
    "## Option D"
   ]
  },
  {
   "cell_type": "code",
   "execution_count": 16,
   "metadata": {},
   "outputs": [],
   "source": [
    "#qc.barrier(3)\n",
    "#qc.draw(output=\"mpl\")\n",
    "#error, index out of range"
   ]
  },
  {
   "cell_type": "markdown",
   "metadata": {},
   "source": [
    "## Option E"
   ]
  },
  {
   "cell_type": "code",
   "execution_count": 17,
   "metadata": {},
   "outputs": [],
   "source": [
    "#qc.barrier_all()\n",
    "#qc.draw(output=\"mpl\")\n",
    "#error, no attribute barrier_all, no such command, but only measure_all()"
   ]
  },
  {
   "cell_type": "markdown",
   "metadata": {},
   "source": [
    "# Reference\n",
    "1. https://medium.com/arnaldo-gunzi-quantum/what-is-the-barrier-in-qiskit-for-7d1547bebd1\n",
    "2. https://www.youtube.com/watch?v=tS2CMOyWFMQ&feature=emb_imp_woyt&themeRefresh=1\n",
    "3. https://www.youtube.com/watch?v=8mrPNSctRIg\n",
    "4. https://www.youtube.com/watch?v=CdoCPz6TC9k\n",
    "5. https://www.oreilly.com/library/view/qiskit-pocket-guide/9781098112462/ch04.html\n",
    "6. https://github.com/qiskit-community/qiskit-community-tutorials/blob/master/aqua/index.ipynb\n",
    "7. https://github.com/Qiskit/qiskit-tutorials\n",
    "8. https://github.com/Qiskit/qiskit-ibmq-provider\n",
    "9. https://www.ibm.com/blogs/research/2019/12/qiskit-openpulse/\n",
    "10. https://medium.com/qiskit/qiskit-backends-what-they-are-and-how-to-work-with-them-fb66b3bd0463\n",
    "11. https://medium.com/arnaldo-gunzi-quantum/what-is-the-barrier-in-qiskit-for-7d1547bebd1"
   ]
  },
  {
   "cell_type": "code",
   "execution_count": null,
   "metadata": {},
   "outputs": [],
   "source": []
  }
 ],
 "metadata": {
  "kernelspec": {
   "display_name": "Python 3",
   "language": "python",
   "name": "python3"
  },
  "language_info": {
   "codemirror_mode": {
    "name": "ipython",
    "version": 3
   },
   "file_extension": ".py",
   "mimetype": "text/x-python",
   "name": "python",
   "nbconvert_exporter": "python",
   "pygments_lexer": "ipython3",
   "version": "3.8.5"
  }
 },
 "nbformat": 4,
 "nbformat_minor": 4
}
